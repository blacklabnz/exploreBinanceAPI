{
 "cells": [
  {
   "cell_type": "markdown",
   "metadata": {},
   "source": [
    "#Question 5 and 6 \n",
    "\n",
    "Every 10 seconds print the result of Q4 and the absolute delta from the previous value for each symbol.\n",
    "Make the output of Q5 accessible by querying http://localhost:8080/metrics using the Prometheus Metrics format."
   ]
  },
  {
   "cell_type": "markdown",
   "metadata": {},
   "source": [
    "Steps 1: In roote dir start Prometheus Server by running:\n",
    "```\n",
    "docker-compose up\n",
    "```\n",
    "you can also do some using \"make\", with make, run \n",
    "```\n",
    "make promeup\n",
    "```\n",
    "Step 2: In python virtual environment run q5and6.py:\n",
    "```\n",
    "python q5and6.py\n",
    "```\n",
    "you should see some entries in console showing that data received in webshocket stream\n",
    "Step 3: Open the following to see the metrics in both metircs endpoint and Prometheus server\n",
    "```\n",
    "http://localhost:8000\n",
    "http://localhost:9090\n",
    "```"
   ]
  }
 ],
 "metadata": {
  "interpreter": {
   "hash": "65d885ebc388f6447b9d2649db44679734e64c4bc014395024494c6359393987"
  },
  "kernelspec": {
   "display_name": "Python 3.9.0 ('vpybi': venv)",
   "language": "python",
   "name": "python3"
  },
  "language_info": {
   "name": "python",
   "version": "3.9.0"
  },
  "orig_nbformat": 4
 },
 "nbformat": 4,
 "nbformat_minor": 2
}
