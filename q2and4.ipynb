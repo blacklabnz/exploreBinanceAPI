{
 "cells": [
  {
   "cell_type": "markdown",
   "metadata": {},
   "source": [
    "#Question 2\n",
    "Print the top 5 symbols with quote asset USDT and the highest number of trades over the last 24 hours in descending order.\n",
    "   \n",
    "#Question 4\n",
    "What is the price spread for each of the symbols from Q2?"
   ]
  },
  {
   "cell_type": "code",
   "execution_count": 2,
   "metadata": {},
   "outputs": [
    {
     "data": {
      "text/plain": [
       "True"
      ]
     },
     "execution_count": 2,
     "metadata": {},
     "output_type": "execute_result"
    }
   ],
   "source": [
    "import requests\n",
    "import os\n",
    "from dotenv import load_dotenv\n",
    "import json\n",
    "import pandas as pd\n",
    "import time\n",
    "import datetime\n",
    "load_dotenv()"
   ]
  },
  {
   "cell_type": "code",
   "execution_count": null,
   "metadata": {},
   "outputs": [],
   "source": [
    "df=pd.read_csv(f\"{os.getenv('dataCsvPath')}\\{os.getenv('symbolCsvFileName')}.csv\", index_col=None)\n",
    "print(df.loc[df['quoteAsset'] == 'USDT'])"
   ]
  },
  {
   "cell_type": "code",
   "execution_count": 14,
   "metadata": {},
   "outputs": [],
   "source": [
    "symboldf=pd.read_csv(f\"{os.getenv('dataCsvPath')}\\{os.getenv('symbolCsvFileName')}.csv\", index_col=None)\n",
    "usdtQuoteAssetdf= symboldf.loc[symboldf['quoteAsset'] == \"USDT\"]"
   ]
  },
  {
   "cell_type": "code",
   "execution_count": null,
   "metadata": {},
   "outputs": [],
   "source": [
    "# Get 24hr ticker with volume\n",
    "\n",
    "result=[]\n",
    "\n",
    "for i, row in  usdtQuoteAssetdf.iterrows():\n",
    "\n",
    "    tradesUrl=f\"{os.getenv('host')}/{os.getenv('tradesPathParam')}?interval=1d&symbol={row['symbol']}\"\n",
    "    print(tradesUrl)\n",
    "    r = requests.get(tradesUrl)\n",
    "    df=pd.DataFrame.from_records(r.json(), columns=['OpenTime','Open','High','Low','Close','Volume','Closetime','QuoteAssetVolume','NumberOfTrades','TakerBuyBaseAssetVolume','TakerBuyQuoteAssetVolume', 'ignore'])\n",
    "\n",
    "    min=float(df.min().Low)\n",
    "    max=float(df.min().High)\n",
    "\n",
    "    total_trades = df['NumberOfTrades'].agg('sum')\n",
    "    print\n",
    "    d={}\n",
    "    d['symbol']=row['symbol']\n",
    "    d['quoteAsset']=row['quoteAsset']\n",
    "    d[\"numberOfTrades\"]=total_trades\n",
    "    d['min']=min\n",
    "    d['max']=max\n",
    "    d['priceSpread']=max-min\n",
    "    result.append(d)\n",
    "\n",
    "df = pd.DataFrame.from_records(result)\n",
    "df.to_csv(f\"{os.getenv('dataCsvPath')}\\{os.getenv('allTradewithSymbol')}.csv\", index=False)"
   ]
  },
  {
   "cell_type": "code",
   "execution_count": null,
   "metadata": {},
   "outputs": [],
   "source": [
    "df=pd.read_csv(f\"{os.getenv('dataCsvPath')}\\{os.getenv('allTradewithSymbol')}.csv\", index_col=None)\n",
    "df2=df.sort_values(by=['numberOfTrades'], ascending=False).head(5)\n",
    "display(df2)\n",
    "df2.to_csv(f\"{os.getenv('dataCsvPath')}\\{os.getenv('q2_TradewithSymbol')}.csv\", index=False)"
   ]
  },
  {
   "cell_type": "code",
   "execution_count": 17,
   "metadata": {},
   "outputs": [],
   "source": [
    "def substract(x):\n",
    "    return x['max'] - x['min']"
   ]
  },
  {
   "cell_type": "code",
   "execution_count": 18,
   "metadata": {},
   "outputs": [],
   "source": [
    "df3=df2.assign(priceSpread=lambda x: substract(x))\n",
    "df4=df3[['symbol', 'priceSpread']]\n",
    "df4.to_csv(f\"{os.getenv('dataCsvPath')}\\{os.getenv('q4_TradewithSymbolPriceSpread')}.csv\", index=False)"
   ]
  }
 ],
 "metadata": {
  "interpreter": {
   "hash": "65d885ebc388f6447b9d2649db44679734e64c4bc014395024494c6359393987"
  },
  "kernelspec": {
   "display_name": "Python 3.9.0 ('vpybi': venv)",
   "language": "python",
   "name": "python3"
  },
  "language_info": {
   "codemirror_mode": {
    "name": "ipython",
    "version": 3
   },
   "file_extension": ".py",
   "mimetype": "text/x-python",
   "name": "python",
   "nbconvert_exporter": "python",
   "pygments_lexer": "ipython3",
   "version": "3.9.0"
  },
  "orig_nbformat": 4
 },
 "nbformat": 4,
 "nbformat_minor": 2
}
