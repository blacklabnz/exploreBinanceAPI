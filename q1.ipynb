{
 "cells": [
  {
   "cell_type": "markdown",
   "metadata": {},
   "source": [
    "#Question:\n",
    "Print the top 5 symbols with quote asset BTC and the highest volume over the last 24 hours in descending order."
   ]
  },
  {
   "cell_type": "code",
   "execution_count": 2,
   "metadata": {},
   "outputs": [
    {
     "data": {
      "text/plain": [
       "True"
      ]
     },
     "execution_count": 2,
     "metadata": {},
     "output_type": "execute_result"
    }
   ],
   "source": [
    "import requests\n",
    "import os\n",
    "from dotenv import load_dotenv\n",
    "import json\n",
    "import pandas as pd\n",
    "load_dotenv()"
   ]
  },
  {
   "cell_type": "code",
   "execution_count": null,
   "metadata": {},
   "outputs": [],
   "source": [
    "# Get exchange info to Json\n",
    "exchangeInfoUrl=f\"{os.getenv('host')}/{os.getenv('exchangeInfoPathParam')}\"\n",
    "r = requests.get(exchangeInfoUrl)\n",
    "with open(f\"{os.getenv('dataJsonPath')}\\{os.getenv('exchangeInfoJsonFileName')}.json\", 'w') as f:\n",
    "    json.dump(r.json(), f)"
   ]
  },
  {
   "cell_type": "code",
   "execution_count": null,
   "metadata": {},
   "outputs": [],
   "source": [
    "# Get 24hr ticker with volume\n",
    "ticker24hrUrl=f\"{os.getenv('host')}/{os.getenv('ticker24hrPathParam')}\"\n",
    "r = requests.get(ticker24hrUrl)\n",
    "with open(f\"{os.getenv('dataJsonPath')}\\{os.getenv('ticker24hrJsonFileName')}.json\", 'w') as f:\n",
    "    json.dump(r.json(), f)"
   ]
  },
  {
   "cell_type": "code",
   "execution_count": 10,
   "metadata": {},
   "outputs": [],
   "source": [
    "with open(f\"{os.getenv('dataJsonPath')}\\{os.getenv('exchangeInfoJsonFileName')}.json\") as f:\n",
    "    data=json.load(f)"
   ]
  },
  {
   "cell_type": "code",
   "execution_count": null,
   "metadata": {},
   "outputs": [],
   "source": [
    "symbols=pd.json_normalize(data['symbols'])\n",
    "display(symbols[['symbol', 'baseAsset', 'quoteAsset', 'status']])\n",
    "\n",
    "df2=symbols[['symbol', 'baseAsset', 'quoteAsset', 'status']]\n",
    "\n",
    "df2.to_csv(f\"{os.getenv('dataCsvPath')}\\{os.getenv('symbolCsvFileName')}.csv\", index=False)"
   ]
  },
  {
   "cell_type": "code",
   "execution_count": 12,
   "metadata": {},
   "outputs": [],
   "source": [
    "with open(f\"{os.getenv('dataJsonPath')}\\{os.getenv('ticker24hrJsonFileName')}.json\") as f:\n",
    "    data=json.load(f)"
   ]
  },
  {
   "cell_type": "code",
   "execution_count": null,
   "metadata": {},
   "outputs": [],
   "source": [
    "ticker24h=pd.read_json(f\"{os.getenv('dataJsonPath')}\\{os.getenv('ticker24hrJsonFileName')}.json\")\n",
    "display(ticker24h)\n",
    "ticker24h.to_csv(f\"{os.getenv('dataCsvPath')}\\{os.getenv('ticker24hrCsvFileName')}.csv\", index=False)"
   ]
  },
  {
   "cell_type": "code",
   "execution_count": null,
   "metadata": {},
   "outputs": [],
   "source": [
    "df=pd.read_csv(f\"{os.getenv('dataCsvPath')}\\{os.getenv('symbolCsvFileName')}.csv\", index_col=None)\n",
    "df2=pd.read_csv(f\"{os.getenv('dataCsvPath')}\\{os.getenv('ticker24hrCsvFileName')}.csv\", index_col=None)[['symbol', 'volume']]\n",
    "# df.info\n",
    "df3=df2.join(df.set_index('symbol'), on='symbol')\n",
    "df4=df3.loc[df['quoteAsset'] == 'BTC'].sort_values(by=['volume'], ascending=False).head(5)\n",
    "display(df4)\n",
    "df4.to_csv(f\"{os.getenv('dataCsvPath')}\\{os.getenv('q1_highestVolume')}.csv\", index=False)"
   ]
  },
  {
   "cell_type": "code",
   "execution_count": null,
   "metadata": {},
   "outputs": [],
   "source": []
  }
 ],
 "metadata": {
  "interpreter": {
   "hash": "65d885ebc388f6447b9d2649db44679734e64c4bc014395024494c6359393987"
  },
  "kernelspec": {
   "display_name": "Python 3.9.0 ('vpybi': venv)",
   "language": "python",
   "name": "python3"
  },
  "language_info": {
   "codemirror_mode": {
    "name": "ipython",
    "version": 3
   },
   "file_extension": ".py",
   "mimetype": "text/x-python",
   "name": "python",
   "nbconvert_exporter": "python",
   "pygments_lexer": "ipython3",
   "version": "3.9.0"
  },
  "orig_nbformat": 4
 },
 "nbformat": 4,
 "nbformat_minor": 2
}
