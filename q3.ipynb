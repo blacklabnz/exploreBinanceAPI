{
 "cells": [
  {
   "cell_type": "markdown",
   "metadata": {},
   "source": [
    "#Question 3 \n",
    "Using the symbols from Q1, what is the total notional value of the top 200 bids and asks currently on each order book?\n",
    "\n",
    "Please see answer at [q3_top200Asks.csv](data/csv/q3_top200Asks.csv) and [q3_top200Bids.csv](data/csv/q3_top200Bids.csv)"
   ]
  },
  {
   "cell_type": "code",
   "execution_count": null,
   "metadata": {},
   "outputs": [],
   "source": [
    "import requests\n",
    "import os\n",
    "from dotenv import load_dotenv\n",
    "import json\n",
    "import pandas as pd\n",
    "import time\n",
    "import datetime\n",
    "load_dotenv()"
   ]
  },
  {
   "cell_type": "code",
   "execution_count": 9,
   "metadata": {},
   "outputs": [],
   "source": [
    "symboldf=pd.read_csv(f\"{os.getenv('dataCsvPath')}\\{os.getenv('symbolCsvFileName')}.csv\", index_col=None)"
   ]
  },
  {
   "cell_type": "code",
   "execution_count": null,
   "metadata": {},
   "outputs": [],
   "source": [
    "result=[]\n",
    "for i, row in symboldf.iterrows():\n",
    "    orderBookUrl=f\"{os.getenv('host')}/{os.getenv('orderBookPathParam')}?symbol={row['symbol']}\"\n",
    "    r = requests.get(orderBookUrl)\n",
    "    result.append(r.json())\n",
    "\n",
    "df = pd.DataFrame.from_records(result)\n",
    "display(df)\n",
    "df.to_csv(f\"{os.getenv('dataCsvPath')}\\{os.getenv('orderBook')}.csv\", index=False)"
   ]
  },
  {
   "cell_type": "code",
   "execution_count": 4,
   "metadata": {},
   "outputs": [],
   "source": [
    "orderbookdf=pd.read_csv(f\"{os.getenv('dataCsvPath')}\\{os.getenv('orderBook')}.csv\", index_col=None)"
   ]
  },
  {
   "cell_type": "code",
   "execution_count": 12,
   "metadata": {},
   "outputs": [],
   "source": [
    "top200Bids=orderbookdf.sort_values(by=['bidPrice'], ascending=False).head(200)\n",
    "top200Bids.to_csv(f\"{os.getenv('dataCsvPath')}\\{os.getenv('q3_top200Bids')}.csv\", index=False)"
   ]
  },
  {
   "cell_type": "code",
   "execution_count": 13,
   "metadata": {},
   "outputs": [],
   "source": [
    "top200Asks=orderbookdf.sort_values(by=['askPrice'], ascending=False).head(200)\n",
    "top200Asks.to_csv(f\"{os.getenv('dataCsvPath')}\\{os.getenv('q3_top200Asks')}.csv\", index=False)"
   ]
  }
 ],
 "metadata": {
  "interpreter": {
   "hash": "65d885ebc388f6447b9d2649db44679734e64c4bc014395024494c6359393987"
  },
  "kernelspec": {
   "display_name": "Python 3.9.0 ('vpybi': venv)",
   "language": "python",
   "name": "python3"
  },
  "language_info": {
   "codemirror_mode": {
    "name": "ipython",
    "version": 3
   },
   "file_extension": ".py",
   "mimetype": "text/x-python",
   "name": "python",
   "nbconvert_exporter": "python",
   "pygments_lexer": "ipython3",
   "version": "3.9.0"
  },
  "orig_nbformat": 4
 },
 "nbformat": 4,
 "nbformat_minor": 2
}
